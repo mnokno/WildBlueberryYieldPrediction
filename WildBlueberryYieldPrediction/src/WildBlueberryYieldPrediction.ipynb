{
 "cells": [
  {
   "cell_type": "markdown",
   "source": [
    "# Imports"
   ],
   "metadata": {
    "collapsed": false
   }
  },
  {
   "cell_type": "code",
   "execution_count": 1,
   "outputs": [],
   "source": [
    "import numpy as np\n",
    "import pandas as pd\n",
    "import matplotlib.pyplot as plt\n",
    "import xgboost as xgb\n",
    "import lightgbm as lgb\n",
    "import os\n",
    "import seaborn as sns\n",
    "from catboost import CatBoostRegressor\n",
    "from sklearn.preprocessing import LabelEncoder\n",
    "from sklearn.metrics import mean_absolute_error\n",
    "from sklearn.model_selection import KFold"
   ],
   "metadata": {
    "collapsed": false
   }
  },
  {
   "cell_type": "markdown",
   "source": [
    "#### Path management"
   ],
   "metadata": {
    "collapsed": false
   }
  },
  {
   "cell_type": "code",
   "execution_count": 2,
   "outputs": [],
   "source": [
    "base: str\n",
    "if os.getcwd() == \"/kaggle/working\":\n",
    "    base = \"/kaggle\"\n",
    "else:\n",
    "    base = os.path.join(os.getcwd())\n",
    "\n",
    "def get_full_dir(sub_dir: str) -> str:\n",
    "    return os.path.join(base, sub_dir)"
   ],
   "metadata": {
    "collapsed": false
   }
  },
  {
   "cell_type": "markdown",
   "source": [
    "# EDA"
   ],
   "metadata": {
    "collapsed": false
   }
  },
  {
   "cell_type": "code",
   "execution_count": 24,
   "outputs": [],
   "source": [
    "df_sample_submission = pd.read_csv(get_full_dir('input/playground-series-s3e14/sample_submission.csv'))\n",
    "df_train = pd.read_csv(get_full_dir('input/playground-series-s3e14/train.csv'), index_col='id')\n",
    "df_test = pd.read_csv(get_full_dir('input/playground-series-s3e14/test.csv'), index_col='id')"
   ],
   "metadata": {
    "collapsed": false
   }
  },
  {
   "cell_type": "markdown",
   "source": [],
   "metadata": {
    "collapsed": false
   }
  },
  {
   "cell_type": "code",
   "execution_count": 4,
   "outputs": [
    {
     "data": {
      "text/plain": "clonesize               0\nhoneybee                0\nbumbles                 0\nandrena                 0\nosmia                   0\nMaxOfUpperTRange        0\nMinOfUpperTRange        0\nAverageOfUpperTRange    0\nMaxOfLowerTRange        0\nMinOfLowerTRange        0\nAverageOfLowerTRange    0\nRainingDays             0\nAverageRainingDays      0\nfruitset                0\nfruitmass               0\nseeds                   0\nyield                   0\ndtype: int64"
     },
     "execution_count": 4,
     "metadata": {},
     "output_type": "execute_result"
    }
   ],
   "source": [
    "df_train.isna().sum()"
   ],
   "metadata": {
    "collapsed": false
   }
  },
  {
   "cell_type": "markdown",
   "source": [
    "##### There are no missing values in our train data."
   ],
   "metadata": {
    "collapsed": false
   }
  },
  {
   "cell_type": "code",
   "execution_count": 5,
   "outputs": [
    {
     "data": {
      "text/plain": "      id     yield\n0  15289  6025.194\n1  15290  6025.194\n2  15291  6025.194\n3  15292  6025.194\n4  15293  6025.194",
      "text/html": "<div>\n<style scoped>\n    .dataframe tbody tr th:only-of-type {\n        vertical-align: middle;\n    }\n\n    .dataframe tbody tr th {\n        vertical-align: top;\n    }\n\n    .dataframe thead th {\n        text-align: right;\n    }\n</style>\n<table border=\"1\" class=\"dataframe\">\n  <thead>\n    <tr style=\"text-align: right;\">\n      <th></th>\n      <th>id</th>\n      <th>yield</th>\n    </tr>\n  </thead>\n  <tbody>\n    <tr>\n      <th>0</th>\n      <td>15289</td>\n      <td>6025.194</td>\n    </tr>\n    <tr>\n      <th>1</th>\n      <td>15290</td>\n      <td>6025.194</td>\n    </tr>\n    <tr>\n      <th>2</th>\n      <td>15291</td>\n      <td>6025.194</td>\n    </tr>\n    <tr>\n      <th>3</th>\n      <td>15292</td>\n      <td>6025.194</td>\n    </tr>\n    <tr>\n      <th>4</th>\n      <td>15293</td>\n      <td>6025.194</td>\n    </tr>\n  </tbody>\n</table>\n</div>"
     },
     "execution_count": 5,
     "metadata": {},
     "output_type": "execute_result"
    }
   ],
   "source": [
    "df_sample_submission.head()"
   ],
   "metadata": {
    "collapsed": false
   }
  },
  {
   "cell_type": "code",
   "execution_count": 6,
   "outputs": [
    {
     "data": {
      "text/plain": "    clonesize  honeybee  bumbles  andrena  osmia  MaxOfUpperTRange  \\\nid                                                                   \n0        25.0      0.50     0.25     0.75   0.50              69.7   \n1        25.0      0.50     0.25     0.50   0.50              69.7   \n2        12.5      0.25     0.25     0.63   0.63              86.0   \n3        12.5      0.25     0.25     0.63   0.50              77.4   \n4        25.0      0.50     0.25     0.63   0.63              77.4   \n\n    MinOfUpperTRange  AverageOfUpperTRange  MaxOfLowerTRange  \\\nid                                                             \n0               42.1                  58.2              50.2   \n1               42.1                  58.2              50.2   \n2               52.0                  71.9              62.0   \n3               46.8                  64.7              55.8   \n4               46.8                  64.7              55.8   \n\n    MinOfLowerTRange  AverageOfLowerTRange  RainingDays  AverageRainingDays  \\\nid                                                                            \n0               24.3                  41.2         24.0                0.39   \n1               24.3                  41.2         24.0                0.39   \n2               30.0                  50.8         24.0                0.39   \n3               27.0                  45.8         24.0                0.39   \n4               27.0                  45.8         24.0                0.39   \n\n    fruitset  fruitmass      seeds       yield  \nid                                              \n0   0.425011   0.417545  32.460887  4476.81146  \n1   0.444908   0.422051  33.858317  5548.12201  \n2   0.552927   0.470853  38.341781  6869.77760  \n3   0.565976   0.478137  39.467561  6880.77590  \n4   0.579677   0.494165  40.484512  7479.93417  ",
      "text/html": "<div>\n<style scoped>\n    .dataframe tbody tr th:only-of-type {\n        vertical-align: middle;\n    }\n\n    .dataframe tbody tr th {\n        vertical-align: top;\n    }\n\n    .dataframe thead th {\n        text-align: right;\n    }\n</style>\n<table border=\"1\" class=\"dataframe\">\n  <thead>\n    <tr style=\"text-align: right;\">\n      <th></th>\n      <th>clonesize</th>\n      <th>honeybee</th>\n      <th>bumbles</th>\n      <th>andrena</th>\n      <th>osmia</th>\n      <th>MaxOfUpperTRange</th>\n      <th>MinOfUpperTRange</th>\n      <th>AverageOfUpperTRange</th>\n      <th>MaxOfLowerTRange</th>\n      <th>MinOfLowerTRange</th>\n      <th>AverageOfLowerTRange</th>\n      <th>RainingDays</th>\n      <th>AverageRainingDays</th>\n      <th>fruitset</th>\n      <th>fruitmass</th>\n      <th>seeds</th>\n      <th>yield</th>\n    </tr>\n    <tr>\n      <th>id</th>\n      <th></th>\n      <th></th>\n      <th></th>\n      <th></th>\n      <th></th>\n      <th></th>\n      <th></th>\n      <th></th>\n      <th></th>\n      <th></th>\n      <th></th>\n      <th></th>\n      <th></th>\n      <th></th>\n      <th></th>\n      <th></th>\n      <th></th>\n    </tr>\n  </thead>\n  <tbody>\n    <tr>\n      <th>0</th>\n      <td>25.0</td>\n      <td>0.50</td>\n      <td>0.25</td>\n      <td>0.75</td>\n      <td>0.50</td>\n      <td>69.7</td>\n      <td>42.1</td>\n      <td>58.2</td>\n      <td>50.2</td>\n      <td>24.3</td>\n      <td>41.2</td>\n      <td>24.0</td>\n      <td>0.39</td>\n      <td>0.425011</td>\n      <td>0.417545</td>\n      <td>32.460887</td>\n      <td>4476.81146</td>\n    </tr>\n    <tr>\n      <th>1</th>\n      <td>25.0</td>\n      <td>0.50</td>\n      <td>0.25</td>\n      <td>0.50</td>\n      <td>0.50</td>\n      <td>69.7</td>\n      <td>42.1</td>\n      <td>58.2</td>\n      <td>50.2</td>\n      <td>24.3</td>\n      <td>41.2</td>\n      <td>24.0</td>\n      <td>0.39</td>\n      <td>0.444908</td>\n      <td>0.422051</td>\n      <td>33.858317</td>\n      <td>5548.12201</td>\n    </tr>\n    <tr>\n      <th>2</th>\n      <td>12.5</td>\n      <td>0.25</td>\n      <td>0.25</td>\n      <td>0.63</td>\n      <td>0.63</td>\n      <td>86.0</td>\n      <td>52.0</td>\n      <td>71.9</td>\n      <td>62.0</td>\n      <td>30.0</td>\n      <td>50.8</td>\n      <td>24.0</td>\n      <td>0.39</td>\n      <td>0.552927</td>\n      <td>0.470853</td>\n      <td>38.341781</td>\n      <td>6869.77760</td>\n    </tr>\n    <tr>\n      <th>3</th>\n      <td>12.5</td>\n      <td>0.25</td>\n      <td>0.25</td>\n      <td>0.63</td>\n      <td>0.50</td>\n      <td>77.4</td>\n      <td>46.8</td>\n      <td>64.7</td>\n      <td>55.8</td>\n      <td>27.0</td>\n      <td>45.8</td>\n      <td>24.0</td>\n      <td>0.39</td>\n      <td>0.565976</td>\n      <td>0.478137</td>\n      <td>39.467561</td>\n      <td>6880.77590</td>\n    </tr>\n    <tr>\n      <th>4</th>\n      <td>25.0</td>\n      <td>0.50</td>\n      <td>0.25</td>\n      <td>0.63</td>\n      <td>0.63</td>\n      <td>77.4</td>\n      <td>46.8</td>\n      <td>64.7</td>\n      <td>55.8</td>\n      <td>27.0</td>\n      <td>45.8</td>\n      <td>24.0</td>\n      <td>0.39</td>\n      <td>0.579677</td>\n      <td>0.494165</td>\n      <td>40.484512</td>\n      <td>7479.93417</td>\n    </tr>\n  </tbody>\n</table>\n</div>"
     },
     "execution_count": 6,
     "metadata": {},
     "output_type": "execute_result"
    }
   ],
   "source": [
    "df_train.head()"
   ],
   "metadata": {
    "collapsed": false
   }
  },
  {
   "cell_type": "code",
   "execution_count": 7,
   "outputs": [
    {
     "data": {
      "text/plain": "          clonesize      honeybee       bumbles       andrena         osmia  \\\ncount  15289.000000  15289.000000  15289.000000  15289.000000  15289.000000   \nmean      19.704690      0.389314      0.286768      0.492675      0.592355   \nstd        6.595211      0.361643      0.059917      0.148115      0.139489   \nmin       10.000000      0.000000      0.000000      0.000000      0.000000   \n25%       12.500000      0.250000      0.250000      0.380000      0.500000   \n50%       25.000000      0.500000      0.250000      0.500000      0.630000   \n75%       25.000000      0.500000      0.380000      0.630000      0.750000   \nmax       40.000000     18.430000      0.585000      0.750000      0.750000   \n\n       MaxOfUpperTRange  MinOfUpperTRange  AverageOfUpperTRange  \\\ncount      15289.000000      15289.000000          15289.000000   \nmean          82.169887         49.673281             68.656256   \nstd            9.146703          5.546405              7.641807   \nmin           69.700000         39.000000             58.200000   \n25%           77.400000         46.800000             64.700000   \n50%           86.000000         52.000000             71.900000   \n75%           86.000000         52.000000             71.900000   \nmax           94.600000         57.200000             79.000000   \n\n       MaxOfLowerTRange  MinOfLowerTRange  AverageOfLowerTRange   RainingDays  \\\ncount      15289.000000      15289.000000          15289.000000  15289.000000   \nmean          59.229538         28.660553             48.568500     18.660865   \nstd            6.610640          3.195367              5.390545     11.657582   \nmin           50.200000         24.300000             41.200000      1.000000   \n25%           55.800000         27.000000             45.800000     16.000000   \n50%           62.000000         30.000000             50.800000     16.000000   \n75%           62.000000         30.000000             50.800000     24.000000   \nmax           68.200000         33.000000             55.900000     34.000000   \n\n       AverageRainingDays      fruitset     fruitmass         seeds  \\\ncount        15289.000000  15289.000000  15289.000000  15289.000000   \nmean             0.324176      0.502741      0.446553     36.164950   \nstd              0.163905      0.074390      0.037035      4.031087   \nmin              0.060000      0.192732      0.311921     22.079199   \n25%              0.260000      0.458246      0.419216     33.232449   \n50%              0.260000      0.506600      0.446570     36.040675   \n75%              0.390000      0.560445      0.474134     39.158238   \nmax              0.560000      0.652144      0.535660     46.585105   \n\n              yield  \ncount  15289.000000  \nmean    6025.193999  \nstd     1337.056850  \nmin     1945.530610  \n25%     5128.163510  \n50%     6117.475900  \n75%     7019.694380  \nmax     8969.401840  ",
      "text/html": "<div>\n<style scoped>\n    .dataframe tbody tr th:only-of-type {\n        vertical-align: middle;\n    }\n\n    .dataframe tbody tr th {\n        vertical-align: top;\n    }\n\n    .dataframe thead th {\n        text-align: right;\n    }\n</style>\n<table border=\"1\" class=\"dataframe\">\n  <thead>\n    <tr style=\"text-align: right;\">\n      <th></th>\n      <th>clonesize</th>\n      <th>honeybee</th>\n      <th>bumbles</th>\n      <th>andrena</th>\n      <th>osmia</th>\n      <th>MaxOfUpperTRange</th>\n      <th>MinOfUpperTRange</th>\n      <th>AverageOfUpperTRange</th>\n      <th>MaxOfLowerTRange</th>\n      <th>MinOfLowerTRange</th>\n      <th>AverageOfLowerTRange</th>\n      <th>RainingDays</th>\n      <th>AverageRainingDays</th>\n      <th>fruitset</th>\n      <th>fruitmass</th>\n      <th>seeds</th>\n      <th>yield</th>\n    </tr>\n  </thead>\n  <tbody>\n    <tr>\n      <th>count</th>\n      <td>15289.000000</td>\n      <td>15289.000000</td>\n      <td>15289.000000</td>\n      <td>15289.000000</td>\n      <td>15289.000000</td>\n      <td>15289.000000</td>\n      <td>15289.000000</td>\n      <td>15289.000000</td>\n      <td>15289.000000</td>\n      <td>15289.000000</td>\n      <td>15289.000000</td>\n      <td>15289.000000</td>\n      <td>15289.000000</td>\n      <td>15289.000000</td>\n      <td>15289.000000</td>\n      <td>15289.000000</td>\n      <td>15289.000000</td>\n    </tr>\n    <tr>\n      <th>mean</th>\n      <td>19.704690</td>\n      <td>0.389314</td>\n      <td>0.286768</td>\n      <td>0.492675</td>\n      <td>0.592355</td>\n      <td>82.169887</td>\n      <td>49.673281</td>\n      <td>68.656256</td>\n      <td>59.229538</td>\n      <td>28.660553</td>\n      <td>48.568500</td>\n      <td>18.660865</td>\n      <td>0.324176</td>\n      <td>0.502741</td>\n      <td>0.446553</td>\n      <td>36.164950</td>\n      <td>6025.193999</td>\n    </tr>\n    <tr>\n      <th>std</th>\n      <td>6.595211</td>\n      <td>0.361643</td>\n      <td>0.059917</td>\n      <td>0.148115</td>\n      <td>0.139489</td>\n      <td>9.146703</td>\n      <td>5.546405</td>\n      <td>7.641807</td>\n      <td>6.610640</td>\n      <td>3.195367</td>\n      <td>5.390545</td>\n      <td>11.657582</td>\n      <td>0.163905</td>\n      <td>0.074390</td>\n      <td>0.037035</td>\n      <td>4.031087</td>\n      <td>1337.056850</td>\n    </tr>\n    <tr>\n      <th>min</th>\n      <td>10.000000</td>\n      <td>0.000000</td>\n      <td>0.000000</td>\n      <td>0.000000</td>\n      <td>0.000000</td>\n      <td>69.700000</td>\n      <td>39.000000</td>\n      <td>58.200000</td>\n      <td>50.200000</td>\n      <td>24.300000</td>\n      <td>41.200000</td>\n      <td>1.000000</td>\n      <td>0.060000</td>\n      <td>0.192732</td>\n      <td>0.311921</td>\n      <td>22.079199</td>\n      <td>1945.530610</td>\n    </tr>\n    <tr>\n      <th>25%</th>\n      <td>12.500000</td>\n      <td>0.250000</td>\n      <td>0.250000</td>\n      <td>0.380000</td>\n      <td>0.500000</td>\n      <td>77.400000</td>\n      <td>46.800000</td>\n      <td>64.700000</td>\n      <td>55.800000</td>\n      <td>27.000000</td>\n      <td>45.800000</td>\n      <td>16.000000</td>\n      <td>0.260000</td>\n      <td>0.458246</td>\n      <td>0.419216</td>\n      <td>33.232449</td>\n      <td>5128.163510</td>\n    </tr>\n    <tr>\n      <th>50%</th>\n      <td>25.000000</td>\n      <td>0.500000</td>\n      <td>0.250000</td>\n      <td>0.500000</td>\n      <td>0.630000</td>\n      <td>86.000000</td>\n      <td>52.000000</td>\n      <td>71.900000</td>\n      <td>62.000000</td>\n      <td>30.000000</td>\n      <td>50.800000</td>\n      <td>16.000000</td>\n      <td>0.260000</td>\n      <td>0.506600</td>\n      <td>0.446570</td>\n      <td>36.040675</td>\n      <td>6117.475900</td>\n    </tr>\n    <tr>\n      <th>75%</th>\n      <td>25.000000</td>\n      <td>0.500000</td>\n      <td>0.380000</td>\n      <td>0.630000</td>\n      <td>0.750000</td>\n      <td>86.000000</td>\n      <td>52.000000</td>\n      <td>71.900000</td>\n      <td>62.000000</td>\n      <td>30.000000</td>\n      <td>50.800000</td>\n      <td>24.000000</td>\n      <td>0.390000</td>\n      <td>0.560445</td>\n      <td>0.474134</td>\n      <td>39.158238</td>\n      <td>7019.694380</td>\n    </tr>\n    <tr>\n      <th>max</th>\n      <td>40.000000</td>\n      <td>18.430000</td>\n      <td>0.585000</td>\n      <td>0.750000</td>\n      <td>0.750000</td>\n      <td>94.600000</td>\n      <td>57.200000</td>\n      <td>79.000000</td>\n      <td>68.200000</td>\n      <td>33.000000</td>\n      <td>55.900000</td>\n      <td>34.000000</td>\n      <td>0.560000</td>\n      <td>0.652144</td>\n      <td>0.535660</td>\n      <td>46.585105</td>\n      <td>8969.401840</td>\n    </tr>\n  </tbody>\n</table>\n</div>"
     },
     "execution_count": 7,
     "metadata": {},
     "output_type": "execute_result"
    }
   ],
   "source": [
    "df_train.describe()"
   ],
   "metadata": {
    "collapsed": false
   }
  },
  {
   "cell_type": "code",
   "execution_count": null,
   "outputs": [],
   "source": [
    "fig, axes = plt.subplots(nrows=len(df_train.select_dtypes(include='number').columns), ncols=4, figsize=(18, 80))\n",
    "axes = axes.flatten()\n",
    "\n",
    "i = 0\n",
    "for col in df_train.select_dtypes(include='number').columns:\n",
    "    sns.kdeplot(df_train[col], label='train', ax=axes[i], fill=False)\n",
    "    sns.histplot(df_train[col], label='train', ax=axes[i + 1], stat=\"density\", bins=50)\n",
    "\n",
    "    if col != 'yield':\n",
    "        sns.kdeplot(df_test[col], label='test', ax=axes[i], fill=False)\n",
    "        sns.histplot(df_test[col], label='test', ax=axes[i + 1], stat=\"density\", bins=50)\n",
    "\n",
    "    if col != 'yield':\n",
    "        tmp_data = pd.DataFrame({\"train\": df_train[col], \"test\": df_test[col]})\n",
    "        sns.boxplot(data=tmp_data, ax=axes[i + 2])\n",
    "    else:\n",
    "        tmp_data = pd.DataFrame({\"train\": df_train[col]})\n",
    "        sns.boxplot(data=tmp_data, ax=axes[i + 2])\n",
    "    axes[i + 2].set_xlabel(col)\n",
    "\n",
    "    sns.scatterplot(x=col, y=\"yield\", label='train', ax=axes[i + 3], data=df_train)\n",
    "\n",
    "    axes[i].legend()\n",
    "    axes[i + 1].legend()\n",
    "    axes[i + 3].legend()\n",
    "    i += 4\n",
    "\n",
    "plt.show()"
   ],
   "metadata": {
    "collapsed": false,
    "pycharm": {
     "is_executing": true
    }
   }
  },
  {
   "cell_type": "markdown",
   "source": [
    "### The apper to be some true outliers in the honeybee colum around 18 and 6, the mean for that column is ~0.389"
   ],
   "metadata": {
    "collapsed": false
   }
  },
  {
   "cell_type": "code",
   "execution_count": 9,
   "outputs": [
    {
     "name": "stdout",
     "output_type": "stream",
     "text": [
      "Train\n",
      " Total:\t\t 15289\n",
      " x < 1:\t\t 15281\n",
      " 1 < x < 17: 3\n",
      " 17 < x:\t 5\n",
      "Test\n",
      " Total:\t\t 10194\n",
      " x < 1:\t\t 10188\n",
      " 1 < x < 17: 2\n",
      " 17 < x:\t 4\n"
     ]
    }
   ],
   "source": [
    "def show_honeybee_outlier_count(df: pd.DataFrame):\n",
    "    honeybee_data = df['honeybee']\n",
    "    total = honeybee_data.count()\n",
    "    below_one = honeybee_data[honeybee_data < 1].count()\n",
    "    above_17 = honeybee_data[honeybee_data > 17].count()\n",
    "    one_to_17 = honeybee_data[honeybee_data > 1].count() - above_17\n",
    "    print(f\" Total:\\t\\t {total}\")\n",
    "    print(f\" x < 1:\\t\\t {below_one}\")\n",
    "    print(f\" 1 < x < 17: {one_to_17}\")\n",
    "    print(f\" 17 < x:\\t {above_17}\")\n",
    "\n",
    "print(\"Train\")\n",
    "show_honeybee_outlier_count(df_train)\n",
    "print(\"Test\")\n",
    "show_honeybee_outlier_count(df_test)"
   ],
   "metadata": {
    "collapsed": false
   }
  },
  {
   "cell_type": "markdown",
   "source": [
    "##### Although the Train and Test datasets have a relatively small number of outliers (8 and 6, respectively), representing less than 0.1% of the datasets, it may still be beneficial to remove them. While outliers can sometimes be genuine observations, they can also have a significant impact on statistical analysis and machine learning models, leading to biased results and poor predictive performance. (Removing the outliers from the train set has improved both evaluation loss and loss on the public set upon kaggle submission)"
   ],
   "metadata": {
    "collapsed": false
   }
  },
  {
   "cell_type": "markdown",
   "source": [
    "# Handle outliers"
   ],
   "metadata": {
    "collapsed": false
   }
  },
  {
   "cell_type": "markdown",
   "source": [],
   "metadata": {
    "collapsed": false
   }
  },
  {
   "cell_type": "code",
   "execution_count": 10,
   "outputs": [],
   "source": [
    "df_train = df_train[df_train['honeybee'] < 1]\n",
    "#df_test[df_test['honeybee'] > 1] = df_train['honeybee'].mean()"
   ],
   "metadata": {
    "collapsed": false
   }
  },
  {
   "cell_type": "markdown",
   "source": [
    "# Train Models"
   ],
   "metadata": {
    "collapsed": false
   }
  },
  {
   "cell_type": "code",
   "execution_count": 11,
   "outputs": [
    {
     "name": "stdout",
     "output_type": "stream",
     "text": [
      "Best parameters: {'subsample': 0.5, 'reg_lambda': 0, 'reg_alpha': 1, 'objective': 'mae', 'num_leaves': 24, 'n_estimators': 500, 'min_child_weight': 5, 'max_depth': 9, 'learning_rate': 0.05, 'colsample_bytree': 0.9}\n",
      "Best MAE score: 343.0801744383313\n"
     ]
    }
   ],
   "source": [
    "from sklearn.model_selection import RandomizedSearchCV\n",
    "from lightgbm import LGBMRegressor\n",
    "\n",
    "# Load data\n",
    "X_train = pd.read_csv(get_full_dir('input/playground-series-s3e14/train.csv'), index_col='id')\n",
    "y_train = X_train.pop('yield')\n",
    "\n",
    "# Define parameter grid\n",
    "param_dist = {\n",
    "    'n_estimators': [500, 1000, 1500],\n",
    "    'learning_rate': [0.01, 0.05, 0.1],\n",
    "    'max_depth': [3, 5, 7, 9],\n",
    "    'min_child_weight': [1, 5, 10],\n",
    "    'subsample': [0.5, 0.7, 0.9],\n",
    "    'colsample_bytree': [0.5, 0.7, 0.9],\n",
    "    'reg_alpha': [0, 0.1, 1],\n",
    "    'reg_lambda': [0, 0.1, 1],\n",
    "    'num_leaves': [16, 20, 24],\n",
    "    'objective': [\"mae\"]\n",
    "}\n",
    "\n",
    "# Create LGBMRegressor object\n",
    "lgbm = LGBMRegressor()\n",
    "\n",
    "# Create RandomizedSearchCV object\n",
    "rs = RandomizedSearchCV(lgbm, param_distributions=param_dist, cv=5, n_iter=100, scoring='neg_mean_absolute_error')\n",
    "\n",
    "# Fit the model on the training data\n",
    "rs.fit(X_train, y_train)\n",
    "\n",
    "# Print the best parameters and RMSE score\n",
    "print(\"Best parameters:\", rs.best_params_)\n",
    "print(\"Best MAE score:\", -rs.best_score_)"
   ],
   "metadata": {
    "collapsed": false
   }
  },
  {
   "cell_type": "code",
   "execution_count": 12,
   "outputs": [],
   "source": [
    "class Pipeline:\n",
    "\n",
    "    def __init__(self, model='XGB'):\n",
    "        self.model_type = model\n",
    "        if model == 'LGB':\n",
    "            self.model = lgb.LGBMRegressor(\n",
    "                #num_leaves = 16,\n",
    "                #max_depth=5,\n",
    "                #learning_rate = 0.01,\n",
    "                #n_estimators=1000,\n",
    "                #objective = \"mae\",\n",
    "                **rs.best_params_\n",
    "            )\n",
    "        elif model == 'CatBoost':\n",
    "            self.model = CatBoostRegressor(\n",
    "                iterations=1000,\n",
    "                learning_rate=0.01,\n",
    "                depth=4,\n",
    "            )\n",
    "        else:\n",
    "            self.model = xgb.XGBRegressor(objective = 'reg:absoluteerror',\n",
    "                                           tree_method = 'gpu_hist',\n",
    "                                           colsample_bytree = 0.6,\n",
    "                                           gamma = 0.8,\n",
    "                                           learning_rate = 0.01,\n",
    "                                           max_depth = 5,\n",
    "                                           min_child_weight = 5,\n",
    "                                           n_estimators = 1000,\n",
    "                                           subsample = 0.7)\n",
    "\n",
    "    def fit(self, X, y, X_val, y_val):\n",
    "        self.model.fit(X, y.ravel(), eval_set=[(X_val, y_val.ravel())], verbose=False)\n",
    "\n",
    "    def predict(self, X):\n",
    "        return self.model.predict(X)\n",
    "\n",
    "    def grid_search(self, X, y, X_eval, y_eval):\n",
    "       pass"
   ],
   "metadata": {
    "collapsed": false
   }
  },
  {
   "cell_type": "code",
   "execution_count": 13,
   "outputs": [],
   "source": [
    "def train(model_type):\n",
    "    X = df_train.drop(['yield'], axis=1)\n",
    "    y = df_train['yield']\n",
    "    SKFs = KFold(n_splits=5, shuffle=True, random_state=1)\n",
    "    losses = []\n",
    "    pipelines = []\n",
    "    for fold, (idx_tr, idx_vl) in enumerate(SKFs.split(X, y)):\n",
    "        train_dataframe = df_train.iloc[idx_tr]\n",
    "        dev_dataframe = df_train.iloc[idx_vl]\n",
    "\n",
    "        # splits data to features and target\n",
    "        X_train = train_dataframe.drop('yield', axis=1)\n",
    "        y_train = train_dataframe['yield']\n",
    "        X_dev = dev_dataframe.drop('yield', axis=1)\n",
    "        y_dev = dev_dataframe['yield']\n",
    "\n",
    "        # crates and fits a pipeline\n",
    "        pipelineMy = Pipeline(model=model_type)\n",
    "        pipelineMy.fit(X_train, y_train, X_dev, y_dev)\n",
    "\n",
    "        # evaluates the model\n",
    "        pipelines.append(pipelineMy)\n",
    "        loss = mean_absolute_error(y_dev, pipelineMy.predict(X_dev))\n",
    "        losses.append(loss)\n",
    "        print(f'Fold {fold} loss: {loss}')\n",
    "    print(f'Mean loss: {np.array(losses).mean()}')\n",
    "    return losses, pipelines"
   ],
   "metadata": {
    "collapsed": false
   }
  },
  {
   "cell_type": "code",
   "execution_count": 14,
   "outputs": [
    {
     "name": "stderr",
     "output_type": "stream",
     "text": [
      "C:\\Users\\kubaa\\AppData\\Local\\Programs\\Python\\Python310\\lib\\site-packages\\lightgbm\\sklearn.py:736: UserWarning: 'verbose' argument is deprecated and will be removed in a future release of LightGBM. Pass 'log_evaluation()' callback via 'callbacks' argument instead.\n",
      "  _log_warning(\"'verbose' argument is deprecated and will be removed in a future release of LightGBM. \"\n"
     ]
    },
    {
     "name": "stdout",
     "output_type": "stream",
     "text": [
      "Fold 0 loss: 342.0046111427022\n"
     ]
    },
    {
     "name": "stderr",
     "output_type": "stream",
     "text": [
      "C:\\Users\\kubaa\\AppData\\Local\\Programs\\Python\\Python310\\lib\\site-packages\\lightgbm\\sklearn.py:736: UserWarning: 'verbose' argument is deprecated and will be removed in a future release of LightGBM. Pass 'log_evaluation()' callback via 'callbacks' argument instead.\n",
      "  _log_warning(\"'verbose' argument is deprecated and will be removed in a future release of LightGBM. \"\n"
     ]
    },
    {
     "name": "stdout",
     "output_type": "stream",
     "text": [
      "Fold 1 loss: 342.6611781174806\n"
     ]
    },
    {
     "name": "stderr",
     "output_type": "stream",
     "text": [
      "C:\\Users\\kubaa\\AppData\\Local\\Programs\\Python\\Python310\\lib\\site-packages\\lightgbm\\sklearn.py:736: UserWarning: 'verbose' argument is deprecated and will be removed in a future release of LightGBM. Pass 'log_evaluation()' callback via 'callbacks' argument instead.\n",
      "  _log_warning(\"'verbose' argument is deprecated and will be removed in a future release of LightGBM. \"\n"
     ]
    },
    {
     "name": "stdout",
     "output_type": "stream",
     "text": [
      "Fold 2 loss: 347.5942169187839\n"
     ]
    },
    {
     "name": "stderr",
     "output_type": "stream",
     "text": [
      "C:\\Users\\kubaa\\AppData\\Local\\Programs\\Python\\Python310\\lib\\site-packages\\lightgbm\\sklearn.py:736: UserWarning: 'verbose' argument is deprecated and will be removed in a future release of LightGBM. Pass 'log_evaluation()' callback via 'callbacks' argument instead.\n",
      "  _log_warning(\"'verbose' argument is deprecated and will be removed in a future release of LightGBM. \"\n"
     ]
    },
    {
     "name": "stdout",
     "output_type": "stream",
     "text": [
      "Fold 3 loss: 339.81599773120547\n"
     ]
    },
    {
     "name": "stderr",
     "output_type": "stream",
     "text": [
      "C:\\Users\\kubaa\\AppData\\Local\\Programs\\Python\\Python310\\lib\\site-packages\\lightgbm\\sklearn.py:736: UserWarning: 'verbose' argument is deprecated and will be removed in a future release of LightGBM. Pass 'log_evaluation()' callback via 'callbacks' argument instead.\n",
      "  _log_warning(\"'verbose' argument is deprecated and will be removed in a future release of LightGBM. \"\n"
     ]
    },
    {
     "name": "stdout",
     "output_type": "stream",
     "text": [
      "Fold 4 loss: 341.8701261281062\n",
      "Mean loss: 342.78922600765566\n"
     ]
    }
   ],
   "source": [
    "lossesLGB, pipelinesLGB = train('LGB')"
   ],
   "metadata": {
    "collapsed": false
   }
  },
  {
   "cell_type": "code",
   "execution_count": 15,
   "outputs": [
    {
     "name": "stdout",
     "output_type": "stream",
     "text": [
      "Fold 0 loss: 355.2065904124773\n",
      "Fold 1 loss: 357.4577460503982\n",
      "Fold 2 loss: 363.49467248717\n",
      "Fold 3 loss: 350.754727034955\n",
      "Fold 4 loss: 353.423319422003\n",
      "Mean loss: 356.06741108140073\n"
     ]
    }
   ],
   "source": [
    "lossesCB, pipelinesCB = train('CatBoost')"
   ],
   "metadata": {
    "collapsed": false
   }
  },
  {
   "cell_type": "code",
   "execution_count": 16,
   "outputs": [
    {
     "name": "stdout",
     "output_type": "stream",
     "text": [
      "Fold 0 loss: 438.2886270400413\n",
      "Fold 1 loss: 434.9451897459404\n",
      "Fold 2 loss: 438.32053783815394\n",
      "Fold 3 loss: 435.08737659417443\n",
      "Fold 4 loss: 429.39451705011663\n",
      "Mean loss: 435.2072496536854\n"
     ]
    }
   ],
   "source": [
    "lossesXGB, pipelinesXGB = train('XGB')"
   ],
   "metadata": {
    "collapsed": false
   }
  },
  {
   "cell_type": "markdown",
   "source": [
    "# Make Submission"
   ],
   "metadata": {
    "collapsed": false
   }
  },
  {
   "cell_type": "code",
   "execution_count": 17,
   "outputs": [],
   "source": [
    "preds = pipelinesLGB[0].predict(df_test)\n",
    "for i in range(1, len(pipelinesLGB)):\n",
    "    preds += pipelinesLGB[0].predict(df_test)\n",
    "preds = preds / 5.0"
   ],
   "metadata": {
    "collapsed": false
   }
  },
  {
   "cell_type": "code",
   "execution_count": 18,
   "outputs": [
    {
     "data": {
      "text/plain": "array([4327.94764623, 5918.64969604, 7196.14859659, ..., 6493.61362123,\n       4405.73413846, 7205.15078494])"
     },
     "execution_count": 18,
     "metadata": {},
     "output_type": "execute_result"
    }
   ],
   "source": [
    "preds"
   ],
   "metadata": {
    "collapsed": false
   }
  },
  {
   "cell_type": "code",
   "execution_count": 19,
   "outputs": [],
   "source": [
    "submission = pd.DataFrame()\n",
    "submission['yield'] = preds\n",
    "submission.index += 15289"
   ],
   "metadata": {
    "collapsed": false
   }
  },
  {
   "cell_type": "code",
   "execution_count": 20,
   "outputs": [
    {
     "data": {
      "text/plain": "             yield\n15289  4327.947646\n15290  5918.649696\n15291  7196.148597\n15292  4623.509791\n15293  3793.472496\n...            ...\n25478  5462.865233\n25479  5601.672283\n25480  6493.613621\n25481  4405.734138\n25482  7205.150785\n\n[10194 rows x 1 columns]",
      "text/html": "<div>\n<style scoped>\n    .dataframe tbody tr th:only-of-type {\n        vertical-align: middle;\n    }\n\n    .dataframe tbody tr th {\n        vertical-align: top;\n    }\n\n    .dataframe thead th {\n        text-align: right;\n    }\n</style>\n<table border=\"1\" class=\"dataframe\">\n  <thead>\n    <tr style=\"text-align: right;\">\n      <th></th>\n      <th>yield</th>\n    </tr>\n  </thead>\n  <tbody>\n    <tr>\n      <th>15289</th>\n      <td>4327.947646</td>\n    </tr>\n    <tr>\n      <th>15290</th>\n      <td>5918.649696</td>\n    </tr>\n    <tr>\n      <th>15291</th>\n      <td>7196.148597</td>\n    </tr>\n    <tr>\n      <th>15292</th>\n      <td>4623.509791</td>\n    </tr>\n    <tr>\n      <th>15293</th>\n      <td>3793.472496</td>\n    </tr>\n    <tr>\n      <th>...</th>\n      <td>...</td>\n    </tr>\n    <tr>\n      <th>25478</th>\n      <td>5462.865233</td>\n    </tr>\n    <tr>\n      <th>25479</th>\n      <td>5601.672283</td>\n    </tr>\n    <tr>\n      <th>25480</th>\n      <td>6493.613621</td>\n    </tr>\n    <tr>\n      <th>25481</th>\n      <td>4405.734138</td>\n    </tr>\n    <tr>\n      <th>25482</th>\n      <td>7205.150785</td>\n    </tr>\n  </tbody>\n</table>\n<p>10194 rows × 1 columns</p>\n</div>"
     },
     "execution_count": 20,
     "metadata": {},
     "output_type": "execute_result"
    }
   ],
   "source": [
    "submission"
   ],
   "metadata": {
    "collapsed": false
   }
  },
  {
   "cell_type": "code",
   "execution_count": 21,
   "outputs": [],
   "source": [
    "submission.to_csv(\"submission.csv\", index=True, header=True, index_label=\"id\")"
   ],
   "metadata": {
    "collapsed": false
   }
  },
  {
   "cell_type": "code",
   "execution_count": 21,
   "outputs": [],
   "source": [],
   "metadata": {
    "collapsed": false
   }
  }
 ],
 "metadata": {
  "kernelspec": {
   "display_name": "Python 3",
   "language": "python",
   "name": "python3"
  },
  "language_info": {
   "codemirror_mode": {
    "name": "ipython",
    "version": 2
   },
   "file_extension": ".py",
   "mimetype": "text/x-python",
   "name": "python",
   "nbconvert_exporter": "python",
   "pygments_lexer": "ipython2",
   "version": "2.7.6"
  }
 },
 "nbformat": 4,
 "nbformat_minor": 0
}
